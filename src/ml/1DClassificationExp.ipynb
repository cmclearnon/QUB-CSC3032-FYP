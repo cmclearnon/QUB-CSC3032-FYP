{
 "cells": [
  {
   "cell_type": "markdown",
   "execution_count": null,
   "metadata": {},
   "outputs": [],
   "source": [
    "# SVC SVM Machine Learning with 1-Dimensional URL Dataset"
   ]
  },
  {
   "cell_type": "code",
   "execution_count": 16,
   "metadata": {},
   "outputs": [],
   "source": [
    "import pandas as pd\n",
    "from sklearn import svm"
   ]
  },
  {
   "cell_type": "markdown",
   "execution_count": null,
   "metadata": {},
   "outputs": [],
   "source": [
    "## Reading in Benign dataset into Dataframe"
   ]
  },
  {
   "cell_type": "code",
   "execution_count": 17,
   "metadata": {},
   "outputs": [
    {
     "name": "stdout",
     "output_type": "stream",
     "text": "URL URLType\n0      http://1337x.to/torrent/1048648/American-Snipe...  Benign\n1      http://1337x.to/torrent/1110018/Blackhat-2015-...  Benign\n2      http://1337x.to/torrent/1122940/Blackhat-2015-...  Benign\n3      http://1337x.to/torrent/1124395/Fast-and-Furio...  Benign\n4      http://1337x.to/torrent/1145504/Avengers-Age-o...  Benign\n...                                                  ...     ...\n35373  https://lastpass.com/signup2.php?ac=1&from_uri...  Benign\n35374  https://lastpass.com/signup2.php?ac=1&from_uri...  Benign\n35375  https://lastpass.com/signup2.php?ac=1&from_uri...  Benign\n35376  https://lastpass.com/signup2.php?ac=1&from_uri...  Benign\n35377  https://asana.com/guide/videos/%22//fast.wisti...  Benign\n\n[35378 rows x 2 columns]\n"
    }
   ],
   "source": [
    "df_benign = pd.read_csv('/Users/chrismclearnon/Developer/QUB-CSC3032-FYP/src/data/Malicious-DS/URL/Benign_list_big_final.csv')\n",
    "df_benign[\"URLType\"] = \"Benign\"\n",
    "print(df_benign)"
   ]
  },
  {
   "cell_type": "markdown",
   "execution_count": null,
   "metadata": {},
   "outputs": [],
   "source": [
    "## Reading in Malicious dataset into Dataframe"
   ]
  },
  {
   "cell_type": "code",
   "execution_count": 18,
   "metadata": {},
   "outputs": [
    {
     "name": "stdout",
     "output_type": "stream",
     "text": "URL    URLType\n0      http://gzzax.livechatvalue.com/chat/chatClient...  Malicious\n1      http://gzzax.livechatvalue.com/chat/chatClient...  Malicious\n2      http://gzzax.livechatvalue.com/chat/chatClient...  Malicious\n3      http://gzzax.livechatvalue.com/chat/chatClient...  Malicious\n4      http://mtsx.com.cn/UploadFiles/2011-08/admin/%...  Malicious\n...                                                  ...        ...\n11561  http://www.plastischechirurgie.net/gesicht/fac...  Malicious\n11562  http://www.plastischechirurgie.net/haartranspl...  Malicious\n11563  http://www.plastischechirurgie.net/korper/gyna...  Malicious\n11564  http://dl.get1993desk.com/n/50517366/RealPlaye...  Malicious\n11565  http://fb.com.accounts.login.userid.492739.fbs...  Malicious\n\n[11566 rows x 2 columns]\n"
    }
   ],
   "source": [
    "df_malicious = pd.read_csv('/Users/chrismclearnon/Developer/QUB-CSC3032-FYP/src/data/Malicious-DS/URL/Malware_dataset.csv')\n",
    "df_malicious[\"URLType\"] = \"Malicious\"\n",
    "print(df_malicious)"
   ]
  },
  {
   "cell_type": "code",
   "execution_count": 19,
   "metadata": {},
   "outputs": [
    {
     "name": "stdout",
     "output_type": "stream",
     "text": "URL    URLType\n0      http://nguyentandung.org/hai-quan-my-cong-bo-k...     Benign\n1      http://taboola.com/sites/default/files/js/js_k...     Benign\n2      http://distractify.com/post/related/id/55524aa...     Benign\n3      http://searchengineland.com/13-semantic-markup...     Benign\n4      http://3cf.ru/2015/07/20/stroitelstvo-energomo...  Malicious\n...                                                  ...        ...\n46939  http://zozo.jp/shop/adonisgreen/?price=proper&...     Benign\n46940  http://9779.info/%E8%B1%86%E5%AD%90%E7%B2%98%E...  Malicious\n46941  http://chinacxyy.com/newscodejs.asp?lm2=198&li...  Malicious\n46942  http://elcomercio.pe/gastronomia/recetas/sandr...     Benign\n46943  http://pikabu.ru/tag/%D0%B7%D0%B5%D0%BC%D0%BB%...     Benign\n\n[46944 rows x 2 columns]\n"
    }
   ],
   "source": [
    "dfs = [df_benign, df_malicious]\n",
    "df = pd.concat(dfs)\n",
    "df.reset_index(drop=True, inplace=True)\n",
    "df = df.sample(frac=1).reset_index(drop=True)\n",
    "print(df)\n",
    "\n"
   ]
  },
  {
   "cell_type": "markdown",
   "execution_count": null,
   "metadata": {},
   "outputs": [],
   "source": [
    "## Encode Binary URL Classifications"
   ]
  },
  {
   "cell_type": "markdown",
   "execution_count": null,
   "metadata": {},
   "outputs": [],
   "source": [
    "Here we are encoding the URLType binary classifications: \"Benign\" / \"Malicious\", using the LabelEncoder()"
   ]
  },
  {
   "cell_type": "code",
   "execution_count": 20,
   "metadata": {},
   "outputs": [
    {
     "name": "stdout",
     "output_type": "stream",
     "text": "URL  URLType\n0      http://nguyentandung.org/hai-quan-my-cong-bo-k...        0\n1      http://taboola.com/sites/default/files/js/js_k...        0\n2      http://distractify.com/post/related/id/55524aa...        0\n3      http://searchengineland.com/13-semantic-markup...        0\n4      http://3cf.ru/2015/07/20/stroitelstvo-energomo...        1\n...                                                  ...      ...\n46939  http://zozo.jp/shop/adonisgreen/?price=proper&...        0\n46940  http://9779.info/%E8%B1%86%E5%AD%90%E7%B2%98%E...        1\n46941  http://chinacxyy.com/newscodejs.asp?lm2=198&li...        1\n46942  http://elcomercio.pe/gastronomia/recetas/sandr...        0\n46943  http://pikabu.ru/tag/%D0%B7%D0%B5%D0%BC%D0%BB%...        0\n\n[46944 rows x 2 columns]\n"
    }
   ],
   "source": [
    "from sklearn import preprocessing\n",
    "\n",
    "enc = preprocessing.LabelEncoder()\n",
    "df[\"URLType\"] = enc.fit_transform(df.URLType.values)\n",
    "print(df)"
   ]
  },
  {
   "cell_type": "markdown",
   "execution_count": null,
   "metadata": {},
   "outputs": [],
   "source": [
    "## Extracting Lexical Features from Dataset\n",
    "\n",
    "Here is where different lexical features are extracted from the full dataset (Features based on the vocabulary/makeup of the actual URL string itself)."
   ]
  },
  {
   "cell_type": "code",
   "execution_count": 21,
   "metadata": {},
   "outputs": [
    {
     "name": "stdout",
     "output_type": "stream",
     "text": "URLLength  HostLength  TLDLength  DotCount  DashCount  @Count  %Count  \\\n0            110          17          0         2         16       0       0   \n1             91          11          0         2          2       0       0   \n2             87          15          0         1          0       0       0   \n3             89          20          0         1         10       0       0   \n4             82           6          0         1          8       0       0   \n...          ...         ...        ...       ...        ...     ...     ...   \n46939        108           7          0         1          0       0       0   \n46940         63           9          0         1          0       0      15   \n46941        170          13          0         3          0       0       0   \n46942        145          13          0         1          9       0       0   \n46943        103           9          0         1          0       0      26   \n\n       =Count  ?Count  DigitCount  UniqueCharCount  URLType  \n0           0       0           0               23        0  \n1           0       0           5               43        0  \n2           0       0          19               27        0  \n3           0       0          12               29        0  \n4           0       0          11               32        1  \n...       ...     ...         ...              ...      ...  \n46939       8       1          15               30        0  \n46940       0       0          21               24        1  \n46941      19       1          25               36        1  \n46942       3       1           8               33        0  \n46943       0       0          26               25        0  \n\n[46944 rows x 12 columns]\n"
    }
   ],
   "source": [
    "from featureprocessing import LexicalFeatureProcessing as lfp\n",
    "from datacleaning import URLDataCleaning as ucl\n",
    "\n",
    "feature_list = []\n",
    "for index, row in df.iterrows():\n",
    "    row[\"URL\"] = ucl.clean_data(row[\"URL\"])\n",
    "    feature_dict = lfp.extract(row[\"URL\"])\n",
    "    feature_dict.update({\"URLType\": row[\"URLType\"]})\n",
    "    feature_list.append(feature_dict)\n",
    "\n",
    "df_ft = pd.DataFrame(feature_list)\n",
    "print(df_ft)"
   ]
  },
  {
   "cell_type": "code",
   "execution_count": 33,
   "metadata": {},
   "outputs": [
    {
     "name": "stdout",
     "output_type": "stream",
     "text": "(46944, 11)\n(46944,)\n"
    }
   ],
   "source": [
    "from sklearn.model_selection import train_test_split\n",
    "\n",
    "x = df_ft.drop('URLType', axis=1)\n",
    "y = df_ft[\"URLType\"]\n",
    "\n",
    "print(x.shape)\n",
    "print(y.shape)"
   ]
  },
  {
   "cell_type": "code",
   "execution_count": 34,
   "metadata": {},
   "outputs": [
    {
     "name": "stdout",
     "output_type": "stream",
     "text": "(46944, 11)\n"
    }
   ],
   "source": [
    "# df_scaled = preprocessing.scale(df_ft)\n",
    "# print(df_scaled)\n",
    "x_scaled = preprocessing.scale(x)\n",
    "print(x_scaled.shape)"
   ]
  },
  {
   "cell_type": "code",
   "execution_count": 38,
   "metadata": {},
   "outputs": [
    {
     "name": "stdout",
     "output_type": "stream",
     "text": "(37555, 11)\n(37555,)\n"
    }
   ],
   "source": [
    "from sklearn.model_selection import train_test_split\n",
    "\n",
    "X_train, x_test, Y_train, y_test = train_test_split(x_scaled, y, test_size = 0.2, random_state = 0)\n",
    "print(X_train.shape)\n",
    "print(Y_train.shape)"
   ]
  },
  {
   "cell_type": "code",
   "execution_count": 39,
   "metadata": {},
   "outputs": [
    {
     "data": {
      "text/plain": "SVC(C=1.0, break_ties=False, cache_size=200, class_weight=None, coef0=0.0,\n    decision_function_shape='ovr', degree=3, gamma='auto', kernel='rbf',\n    max_iter=-1, probability=False, random_state=None, shrinking=True,\n    tol=0.001, verbose=False)"
     },
     "execution_count": 39,
     "metadata": {},
     "output_type": "execute_result"
    }
   ],
   "source": [
    "from sklearn.svm import SVC\n",
    "\n",
    "clf = SVC(gamma='auto')\n",
    "clf.fit(X_train, Y_train)"
   ]
  },
  {
   "cell_type": "code",
   "execution_count": 45,
   "metadata": {},
   "outputs": [
    {
     "data": {
      "text/plain": "0.9661305783363511"
     },
     "execution_count": 45,
     "metadata": {},
     "output_type": "execute_result"
    }
   ],
   "source": [
    "y_pred = clf.predict(x_test)\n",
    "\n",
    "from sklearn.metrics import accuracy_score\n",
    "\n",
    "accuracy_score(y_test, y_pred)"
   ]
  },
  {
   "cell_type": "code",
   "execution_count": null,
   "metadata": {},
   "outputs": [],
   "source": []
  }
 ],
 "metadata": {
  "kernelspec": {
   "display_name": "Python (env)",
   "language": "python",
   "name": "proj-env"
  },
  "language_info": {
   "codemirror_mode": {
    "name": "ipython",
    "version": 3
   },
   "file_extension": ".py",
   "mimetype": "text/x-python",
   "name": "python",
   "nbconvert_exporter": "python",
   "pygments_lexer": "ipython3",
   "version": "3.7.4-final"
  }
 },
 "nbformat": 4,
 "nbformat_minor": 2
}