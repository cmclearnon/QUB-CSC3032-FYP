{
 "cells": [
  {
   "cell_type": "markdown",
   "metadata": {},
   "source": [
    "# Feature Discovery & Extraction Experiement\n",
    "\n",
    "The purpose of this experiement is to explore the URL dataset and attempt to find significant, useful features to attach to the dataset for training our ML models.\n",
    "\n",
    "The 1st identified type of features that will be explored is Lexical-based features: These are based on characteristics of the makeup of the URL strings themselves.\n",
    "\n",
    "Examples would be: \n",
    "- Length of URL\n",
    "- How many sub-domains\n",
    "- Length of Top Level Domain (TLD)\n",
    "<br/>... etc"
   ]
  },
  {
   "cell_type": "markdown",
   "metadata": {},
   "source": [
    "Firstly, the data for Benign and Malicious classed URLs will be joined into 1 dataset:"
   ]
  },
  {
   "cell_type": "code",
   "execution_count": 102,
   "metadata": {},
   "outputs": [],
   "source": [
    "import numpy as np\n",
    "import pandas as pd\n",
    "import matplotlib.pyplot as plt\n",
    "import seaborn as sns\n",
    "\n",
    "from sklearn import preprocessing\n",
    "from sklearn.feature_selection import SelectKBest, f_classif, chi2\n",
    "from sklearn.model_selection import train_test_split\n",
    "from sklearn.preprocessing import MinMaxScaler\n",
    "from sklearn.svm import SVC\n",
    "from sklearn.pipeline import make_pipeline\n",
    "from sklearn.metrics import accuracy_score, plot_roc_curve, average_precision_score\n",
    "\n",
    "from featureprocessing import LexicalFeatureProcessing as lfp\n",
    "from datacleaning import URLDataCleaning as ucl\n",
    "\n",
    "from sklearn.datasets import load_iris"
   ]
  },
  {
   "cell_type": "code",
   "execution_count": 2,
   "metadata": {},
   "outputs": [
    {
     "data": {
      "text/html": [
       "<div>\n",
       "<style scoped>\n",
       "    .dataframe tbody tr th:only-of-type {\n",
       "        vertical-align: middle;\n",
       "    }\n",
       "\n",
       "    .dataframe tbody tr th {\n",
       "        vertical-align: top;\n",
       "    }\n",
       "\n",
       "    .dataframe thead th {\n",
       "        text-align: right;\n",
       "    }\n",
       "</style>\n",
       "<table border=\"1\" class=\"dataframe\">\n",
       "  <thead>\n",
       "    <tr style=\"text-align: right;\">\n",
       "      <th></th>\n",
       "      <th>URL</th>\n",
       "      <th>URLType</th>\n",
       "    </tr>\n",
       "  </thead>\n",
       "  <tbody>\n",
       "    <tr>\n",
       "      <th>0</th>\n",
       "      <td>http://mylust.com/videos/215137/my-raunchy-loo...</td>\n",
       "      <td>Benign</td>\n",
       "    </tr>\n",
       "    <tr>\n",
       "      <th>1</th>\n",
       "      <td>http://mic.com/articles/101766/one-perfect-twe...</td>\n",
       "      <td>Benign</td>\n",
       "    </tr>\n",
       "    <tr>\n",
       "      <th>2</th>\n",
       "      <td>http://stackexchange.com/newsletters/newslette...</td>\n",
       "      <td>Benign</td>\n",
       "    </tr>\n",
       "    <tr>\n",
       "      <th>3</th>\n",
       "      <td>http://bisaneema.org/%e0%a4%ad%e0%a4%be%e0%a4%...</td>\n",
       "      <td>Malicious</td>\n",
       "    </tr>\n",
       "    <tr>\n",
       "      <th>4</th>\n",
       "      <td>http://skyrock.com/videos/eDJwODRhNzoxMw==-bug...</td>\n",
       "      <td>Benign</td>\n",
       "    </tr>\n",
       "    <tr>\n",
       "      <th>...</th>\n",
       "      <td>...</td>\n",
       "      <td>...</td>\n",
       "    </tr>\n",
       "    <tr>\n",
       "      <th>46939</th>\n",
       "      <td>http://themeforest.net/item/artistas-modern-po...</td>\n",
       "      <td>Benign</td>\n",
       "    </tr>\n",
       "    <tr>\n",
       "      <th>46940</th>\n",
       "      <td>http://torcache.net/torrent/2EE5318B3923B273EF...</td>\n",
       "      <td>Benign</td>\n",
       "    </tr>\n",
       "    <tr>\n",
       "      <th>46941</th>\n",
       "      <td>http://grasslandhotel.com.vn/index.php/compone...</td>\n",
       "      <td>Malicious</td>\n",
       "    </tr>\n",
       "    <tr>\n",
       "      <th>46942</th>\n",
       "      <td>http://conservativetribune.com/barack-obama-ju...</td>\n",
       "      <td>Benign</td>\n",
       "    </tr>\n",
       "    <tr>\n",
       "      <th>46943</th>\n",
       "      <td>http://sberbank.ru/moscow/ru/person/investment...</td>\n",
       "      <td>Benign</td>\n",
       "    </tr>\n",
       "  </tbody>\n",
       "</table>\n",
       "<p>46944 rows × 2 columns</p>\n",
       "</div>"
      ],
      "text/plain": [
       "                                                     URL    URLType\n",
       "0      http://mylust.com/videos/215137/my-raunchy-loo...     Benign\n",
       "1      http://mic.com/articles/101766/one-perfect-twe...     Benign\n",
       "2      http://stackexchange.com/newsletters/newslette...     Benign\n",
       "3      http://bisaneema.org/%e0%a4%ad%e0%a4%be%e0%a4%...  Malicious\n",
       "4      http://skyrock.com/videos/eDJwODRhNzoxMw==-bug...     Benign\n",
       "...                                                  ...        ...\n",
       "46939  http://themeforest.net/item/artistas-modern-po...     Benign\n",
       "46940  http://torcache.net/torrent/2EE5318B3923B273EF...     Benign\n",
       "46941  http://grasslandhotel.com.vn/index.php/compone...  Malicious\n",
       "46942  http://conservativetribune.com/barack-obama-ju...     Benign\n",
       "46943  http://sberbank.ru/moscow/ru/person/investment...     Benign\n",
       "\n",
       "[46944 rows x 2 columns]"
      ]
     },
     "metadata": {},
     "output_type": "display_data"
    }
   ],
   "source": [
    "import pandas as pd\n",
    "\n",
    "df_benign = pd.read_csv('/Users/chrismclearnon/Developer/QUB-CSC3032-FYP/src/data/Malicious-DS/URL/Benign_list_big_final.csv')\n",
    "df_benign[\"URLType\"] = \"Benign\"\n",
    "\n",
    "df_malicious = pd.read_csv('/Users/chrismclearnon/Developer/QUB-CSC3032-FYP/src/data/Malicious-DS/URL/Malware_dataset.csv')\n",
    "df_malicious[\"URLType\"] = \"Malicious\"\n",
    "\n",
    "dfs = [df_benign, df_malicious]\n",
    "df = pd.concat(dfs)\n",
    "df.reset_index(drop=True, inplace=True)\n",
    "df = df.sample(frac=1).reset_index(drop=True)\n",
    "\n",
    "display(df)"
   ]
  },
  {
   "cell_type": "markdown",
   "metadata": {},
   "source": [
    "Next, the classes Benign/Malicious will be label encoded, prepping them so that they can be used by ML models:\n",
    "- Benign | 0\n",
    "- Malicious | 1"
   ]
  },
  {
   "cell_type": "code",
   "execution_count": 3,
   "metadata": {},
   "outputs": [],
   "source": [
    "enc = preprocessing.LabelEncoder()\n",
    "df[\"URLType\"] = enc.fit_transform(df.URLType.values)"
   ]
  },
  {
   "cell_type": "markdown",
   "metadata": {},
   "source": [
    "This will be saved as the base dataset that can be built upon with whatever features to be experimented with:"
   ]
  },
  {
   "cell_type": "code",
   "execution_count": 4,
   "metadata": {},
   "outputs": [],
   "source": [
    "df.to_csv('/Users/chrismclearnon/Developer/QUB-CSC3032-FYP/src/data/dataset.csv', index=False)"
   ]
  },
  {
   "cell_type": "markdown",
   "metadata": {},
   "source": [
    "The next step is to extract a list of lexical features from the URLs to create a full dataset.<br/>\n",
    "The URLs will need to be cleaned to ensure that they are formatted correctly to extract URL based features using existing Pyhton librarieslike tld etc:"
   ]
  },
  {
   "cell_type": "code",
   "execution_count": 5,
   "metadata": {},
   "outputs": [
    {
     "data": {
      "text/html": [
       "<div>\n",
       "<style scoped>\n",
       "    .dataframe tbody tr th:only-of-type {\n",
       "        vertical-align: middle;\n",
       "    }\n",
       "\n",
       "    .dataframe tbody tr th {\n",
       "        vertical-align: top;\n",
       "    }\n",
       "\n",
       "    .dataframe thead th {\n",
       "        text-align: right;\n",
       "    }\n",
       "</style>\n",
       "<table border=\"1\" class=\"dataframe\">\n",
       "  <thead>\n",
       "    <tr style=\"text-align: right;\">\n",
       "      <th></th>\n",
       "      <th>URLLength</th>\n",
       "      <th>HostLength</th>\n",
       "      <th>TLDLength</th>\n",
       "      <th>DotCount</th>\n",
       "      <th>DashCount</th>\n",
       "      <th>@Count</th>\n",
       "      <th>%Count</th>\n",
       "      <th>=Count</th>\n",
       "      <th>?Count</th>\n",
       "      <th>DigitCount</th>\n",
       "      <th>UniqueCharCount</th>\n",
       "      <th>URLType</th>\n",
       "    </tr>\n",
       "  </thead>\n",
       "  <tbody>\n",
       "    <tr>\n",
       "      <th>0</th>\n",
       "      <td>93</td>\n",
       "      <td>10</td>\n",
       "      <td>3</td>\n",
       "      <td>1</td>\n",
       "      <td>7</td>\n",
       "      <td>0</td>\n",
       "      <td>0</td>\n",
       "      <td>0</td>\n",
       "      <td>0</td>\n",
       "      <td>6</td>\n",
       "      <td>30</td>\n",
       "      <td>0</td>\n",
       "    </tr>\n",
       "    <tr>\n",
       "      <th>1</th>\n",
       "      <td>116</td>\n",
       "      <td>7</td>\n",
       "      <td>3</td>\n",
       "      <td>1</td>\n",
       "      <td>14</td>\n",
       "      <td>0</td>\n",
       "      <td>0</td>\n",
       "      <td>0</td>\n",
       "      <td>0</td>\n",
       "      <td>6</td>\n",
       "      <td>29</td>\n",
       "      <td>0</td>\n",
       "    </tr>\n",
       "    <tr>\n",
       "      <th>2</th>\n",
       "      <td>83</td>\n",
       "      <td>17</td>\n",
       "      <td>3</td>\n",
       "      <td>3</td>\n",
       "      <td>0</td>\n",
       "      <td>0</td>\n",
       "      <td>0</td>\n",
       "      <td>1</td>\n",
       "      <td>1</td>\n",
       "      <td>0</td>\n",
       "      <td>26</td>\n",
       "      <td>0</td>\n",
       "    </tr>\n",
       "    <tr>\n",
       "      <th>3</th>\n",
       "      <td>196</td>\n",
       "      <td>13</td>\n",
       "      <td>3</td>\n",
       "      <td>1</td>\n",
       "      <td>3</td>\n",
       "      <td>0</td>\n",
       "      <td>57</td>\n",
       "      <td>0</td>\n",
       "      <td>0</td>\n",
       "      <td>51</td>\n",
       "      <td>27</td>\n",
       "      <td>1</td>\n",
       "    </tr>\n",
       "    <tr>\n",
       "      <th>4</th>\n",
       "      <td>91</td>\n",
       "      <td>11</td>\n",
       "      <td>3</td>\n",
       "      <td>2</td>\n",
       "      <td>5</td>\n",
       "      <td>0</td>\n",
       "      <td>0</td>\n",
       "      <td>4</td>\n",
       "      <td>1</td>\n",
       "      <td>5</td>\n",
       "      <td>41</td>\n",
       "      <td>0</td>\n",
       "    </tr>\n",
       "    <tr>\n",
       "      <th>...</th>\n",
       "      <td>...</td>\n",
       "      <td>...</td>\n",
       "      <td>...</td>\n",
       "      <td>...</td>\n",
       "      <td>...</td>\n",
       "      <td>...</td>\n",
       "      <td>...</td>\n",
       "      <td>...</td>\n",
       "      <td>...</td>\n",
       "      <td>...</td>\n",
       "      <td>...</td>\n",
       "      <td>...</td>\n",
       "    </tr>\n",
       "    <tr>\n",
       "      <th>46939</th>\n",
       "      <td>93</td>\n",
       "      <td>15</td>\n",
       "      <td>3</td>\n",
       "      <td>1</td>\n",
       "      <td>4</td>\n",
       "      <td>0</td>\n",
       "      <td>0</td>\n",
       "      <td>0</td>\n",
       "      <td>0</td>\n",
       "      <td>8</td>\n",
       "      <td>31</td>\n",
       "      <td>0</td>\n",
       "    </tr>\n",
       "    <tr>\n",
       "      <th>46940</th>\n",
       "      <td>136</td>\n",
       "      <td>12</td>\n",
       "      <td>3</td>\n",
       "      <td>10</td>\n",
       "      <td>0</td>\n",
       "      <td>0</td>\n",
       "      <td>0</td>\n",
       "      <td>1</td>\n",
       "      <td>1</td>\n",
       "      <td>32</td>\n",
       "      <td>42</td>\n",
       "      <td>0</td>\n",
       "    </tr>\n",
       "    <tr>\n",
       "      <th>46941</th>\n",
       "      <td>76</td>\n",
       "      <td>21</td>\n",
       "      <td>6</td>\n",
       "      <td>4</td>\n",
       "      <td>0</td>\n",
       "      <td>0</td>\n",
       "      <td>0</td>\n",
       "      <td>0</td>\n",
       "      <td>0</td>\n",
       "      <td>1</td>\n",
       "      <td>25</td>\n",
       "      <td>1</td>\n",
       "    </tr>\n",
       "    <tr>\n",
       "      <th>46942</th>\n",
       "      <td>98</td>\n",
       "      <td>23</td>\n",
       "      <td>3</td>\n",
       "      <td>1</td>\n",
       "      <td>11</td>\n",
       "      <td>0</td>\n",
       "      <td>0</td>\n",
       "      <td>0</td>\n",
       "      <td>0</td>\n",
       "      <td>0</td>\n",
       "      <td>25</td>\n",
       "      <td>0</td>\n",
       "    </tr>\n",
       "    <tr>\n",
       "      <th>46943</th>\n",
       "      <td>86</td>\n",
       "      <td>11</td>\n",
       "      <td>2</td>\n",
       "      <td>1</td>\n",
       "      <td>0</td>\n",
       "      <td>0</td>\n",
       "      <td>0</td>\n",
       "      <td>0</td>\n",
       "      <td>0</td>\n",
       "      <td>0</td>\n",
       "      <td>22</td>\n",
       "      <td>0</td>\n",
       "    </tr>\n",
       "  </tbody>\n",
       "</table>\n",
       "<p>46944 rows × 12 columns</p>\n",
       "</div>"
      ],
      "text/plain": [
       "       URLLength  HostLength  TLDLength  DotCount  DashCount  @Count  %Count  \\\n",
       "0             93          10          3         1          7       0       0   \n",
       "1            116           7          3         1         14       0       0   \n",
       "2             83          17          3         3          0       0       0   \n",
       "3            196          13          3         1          3       0      57   \n",
       "4             91          11          3         2          5       0       0   \n",
       "...          ...         ...        ...       ...        ...     ...     ...   \n",
       "46939         93          15          3         1          4       0       0   \n",
       "46940        136          12          3        10          0       0       0   \n",
       "46941         76          21          6         4          0       0       0   \n",
       "46942         98          23          3         1         11       0       0   \n",
       "46943         86          11          2         1          0       0       0   \n",
       "\n",
       "       =Count  ?Count  DigitCount  UniqueCharCount  URLType  \n",
       "0           0       0           6               30        0  \n",
       "1           0       0           6               29        0  \n",
       "2           1       1           0               26        0  \n",
       "3           0       0          51               27        1  \n",
       "4           4       1           5               41        0  \n",
       "...       ...     ...         ...              ...      ...  \n",
       "46939       0       0           8               31        0  \n",
       "46940       1       1          32               42        0  \n",
       "46941       0       0           1               25        1  \n",
       "46942       0       0           0               25        0  \n",
       "46943       0       0           0               22        0  \n",
       "\n",
       "[46944 rows x 12 columns]"
      ]
     },
     "metadata": {},
     "output_type": "display_data"
    }
   ],
   "source": [
    "feature_list = []\n",
    "for index, row in df.iterrows():\n",
    "    row[\"URL\"] = ucl.clean_data(row[\"URL\"])\n",
    "    feature_dict = lfp.extract(row[\"URL\"])\n",
    "    feature_dict.update({\"URLType\": row[\"URLType\"]})\n",
    "    feature_list.append(feature_dict)\n",
    "\n",
    "df_features = pd.DataFrame(feature_list)\n",
    "display(df_features)"
   ]
  },
  {
   "cell_type": "markdown",
   "metadata": {},
   "source": [
    "Lets analyse the existing correlations/relationships that these engineered features have amoungest eachother"
   ]
  },
  {
   "cell_type": "markdown",
   "metadata": {},
   "source": [
    "The feature extracted dataset will be saved for future retrieval without having perform another extraction:"
   ]
  },
  {
   "cell_type": "code",
   "execution_count": 6,
   "metadata": {},
   "outputs": [],
   "source": [
    "df_features.to_csv('/Users/chrismclearnon/Developer/QUB-CSC3032-FYP/src/data/feature_dataset.csv', index=False)"
   ]
  },
  {
   "cell_type": "markdown",
   "metadata": {},
   "source": [
    "In order to ensure that meaningful & impactful features will be used by ML models, they will have to be analysed using statistical methods in order to find the features that have the biggest impact, and filter out any features that have either the same values across most if not all records, or have very little impact on the class.<br/><br/>\n",
    "The dataset will be split into train & test sets for fitting to the feature selector:"
   ]
  },
  {
   "cell_type": "code",
   "execution_count": 122,
   "metadata": {},
   "outputs": [],
   "source": [
    "df_array = df_features.values\n",
    "x = df_array[:, 0:11]\n",
    "y = df_array[:, 11]\n",
    "\n",
    "# sns.pairplot(df_features)\n",
    "# plt.show()"
   ]
  },
  {
   "cell_type": "markdown",
   "metadata": {},
   "source": [
    "The 1st experiment for feature selection will use Chi-Squared analysis of the feature set, to select a specified number of features that have the highest correlation with the class set:\n",
    "\n",
    "![title](img/ChiSquared.png)<br/><br/>\n",
    "\n",
    "For a base test, we will select the top 5 features from the dataset:"
   ]
  },
  {
   "cell_type": "code",
   "execution_count": 89,
   "metadata": {},
   "outputs": [
    {
     "data": {
      "text/plain": [
       "array([78915.3437,  1684.7449,   595.8744,   445.415 , 52358.421 ,\n",
       "          41.5609, 13135.5282,   913.9615,    35.0667,   559.7116,\n",
       "        4680.1887])"
      ]
     },
     "metadata": {},
     "output_type": "display_data"
    },
    {
     "data": {
      "text/plain": [
       "array([[ 93,  10,   7,   0,  30],\n",
       "       [116,   7,  14,   0,  29],\n",
       "       [ 83,  17,   0,   0,  26],\n",
       "       ...,\n",
       "       [ 76,  21,   0,   0,  25],\n",
       "       [ 98,  23,  11,   0,  25],\n",
       "       [ 86,  11,   0,   0,  22]])"
      ]
     },
     "metadata": {},
     "output_type": "display_data"
    }
   ],
   "source": [
    "chi2_selector = SelectKBest(chi2, k=5)\n",
    "chi2_fit = chi2_selector.fit(x, y)\n",
    "\n",
    "np.set_printoptions(precision=4, suppress=True)\n",
    "display(chi2_fit.scores_)\n",
    "\n",
    "chi2_x = chi2_fit.transform(x)\n",
    "display(chi2_x)"
   ]
  },
  {
   "cell_type": "code",
   "execution_count": 90,
   "metadata": {},
   "outputs": [],
   "source": [
    "x_scaled = preprocessing.scale(x)\n",
    "chi2_x_scaled = preprocessing.scale(chi2_x)\n",
    "\n",
    "X_train, x_test, Y_train, y_test = train_test_split(x, y, test_size = 0.2, random_state = 42)\n",
    "Chi_X_train, chi_x_test, Chi_Y_train, chi_y_test = train_test_split(chi2_x_scaled, y, test_size = 0.2, random_state = 42)"
   ]
  },
  {
   "cell_type": "code",
   "execution_count": 100,
   "metadata": {},
   "outputs": [
    {
     "data": {
      "image/png": "[encoded data removed]",
      "text/plain": [
       "<Figure size 432x288 with 1 Axes>"
      ]
     },
     "metadata": {
      "needs_background": "light"
     },
     "output_type": "display_data"
    }
   ],
   "source": [
    "base_clf = SVC()\n",
    "base_clf.fit(X_train, Y_train)\n",
    "\n",
    "y_pred = base_clf.predict(x_test)\n",
    "base_acc_score = accuracy_score(y_test, y_pred)\n",
    "\n",
    "svc_disp = plot_roc_curve(base_clf, x_test, y_test)\n",
    "plt.show()"
   ]
  },
  {
   "cell_type": "code",
   "execution_count": 107,
   "metadata": {},
   "outputs": [
    {
     "name": "stdout",
     "output_type": "stream",
     "text": [
      "Base Classifier Acc Score: 0.938\n",
      "Chi Squared Feature Selected Classifier Acc Score: 0.945\n"
     ]
    },
    {
     "data": {
      "image/png": "[encoded data removed]",
      "text/plain": [
       "<Figure size 432x288 with 1 Axes>"
      ]
     },
     "metadata": {
      "needs_background": "light"
     },
     "output_type": "display_data"
    }
   ],
   "source": [
    "chi2_clf = SVC()\n",
    "chi2_clf.fit(Chi_X_train, Chi_Y_train)\n",
    "\n",
    "ax = plt.gca()\n",
    "\n",
    "chi_y_pred = chi2_clf.predict(chi_x_test)\n",
    "chi2_acc_score = accuracy_score(chi_y_test, chi_y_pred)\n",
    "\n",
    "print('Base Classifier Acc Score: {0:0.3f}\\nChi Squared Feature Selected Classifier Acc Score: {1:0.3f}'.format(base_acc_score, chi2_acc_score))\n",
    "\n",
    "chi_svc_disp = plot_roc_curve(chi2_clf, chi_x_test, chi_y_test, ax=ax, alpha=0.8)\n",
    "svc_disp.plot(ax=ax)\n",
    "plt.show()"
   ]
  },
  {
   "cell_type": "markdown",
   "metadata": {},
   "source": [
    "It can be observed from the plot above that whenever the Chi Squared statistical analysis is applied to the dataset, and the top 5 features are selected:<br/>\n",
    "- Increase in model prediction accuracy for a default SVM classifier\n",
    "- Improved AUC for Receiver Operating Characteristic (ROC)"
   ]
  },
  {
   "cell_type": "code",
   "execution_count": 108,
   "metadata": {},
   "outputs": [],
   "source": [
    "from sklearn.neighbors import KNeighborsClassifier"
   ]
  },
  {
   "cell_type": "code",
   "execution_count": 118,
   "metadata": {},
   "outputs": [
    {
     "data": {
      "text/plain": [
       "KNeighborsClassifier(algorithm='auto', leaf_size=30, metric='minkowski',\n",
       "                     metric_params=None, n_jobs=None, n_neighbors=5, p=2,\n",
       "                     weights='uniform')"
      ]
     },
     "execution_count": 118,
     "metadata": {},
     "output_type": "execute_result"
    }
   ],
   "source": [
    "base_neigh = KNeighborsClassifier()\n",
    "base_neigh.fit(X_train, Y_train)"
   ]
  },
  {
   "cell_type": "code",
   "execution_count": 119,
   "metadata": {},
   "outputs": [
    {
     "name": "stdout",
     "output_type": "stream",
     "text": [
      "Base KNN Classifier Acc Score: 0.9847694110128874\n"
     ]
    }
   ],
   "source": [
    "base_neigh_y_pred = base_neigh.predict(x_test)\n",
    "base_neigh_acc_score = accuracy_score(y_test, base_neigh_y_pred)\n",
    "print('Base KNN Classifier Acc Score: {0}'.format(base_neigh_acc_score))"
   ]
  },
  {
   "cell_type": "code",
   "execution_count": 120,
   "metadata": {},
   "outputs": [
    {
     "data": {
      "text/plain": [
       "KNeighborsClassifier(algorithm='auto', leaf_size=30, metric='minkowski',\n",
       "                     metric_params=None, n_jobs=None, n_neighbors=5, p=2,\n",
       "                     weights='uniform')"
      ]
     },
     "execution_count": 120,
     "metadata": {},
     "output_type": "execute_result"
    }
   ],
   "source": [
    "chi2_neigh = KNeighborsClassifier()\n",
    "chi2_neigh.fit(Chi_X_train, Chi_Y_train)"
   ]
  },
  {
   "cell_type": "code",
   "execution_count": 121,
   "metadata": {},
   "outputs": [
    {
     "name": "stdout",
     "output_type": "stream",
     "text": [
      "Base KNN Classifier Acc Score: 0.9779529236340399\n"
     ]
    }
   ],
   "source": [
    "chi2_neigh_y_pred = chi2_neigh.predict(chi_x_test)\n",
    "chi2_neigh_acc_score = accuracy_score(chi_y_test, chi2_neigh_y_pred)\n",
    "print('Base KNN Classifier Acc Score: {0}'.format(chi2_neigh_acc_score))"
   ]
  },
  {
   "cell_type": "code",
   "execution_count": null,
   "metadata": {},
   "outputs": [],
   "source": []
  }
 ],
 "metadata": {
  "kernelspec": {
   "display_name": "Python (env)",
   "language": "python",
   "name": "proj-env"
  },
  "language_info": {
   "codemirror_mode": {
    "name": "ipython",
    "version": 3
   },
   "file_extension": ".py",
   "mimetype": "text/x-python",
   "name": "python",
   "nbconvert_exporter": "python",
   "pygments_lexer": "ipython3",
   "version": "3.7.6"
  }
 },
 "nbformat": 4,
 "nbformat_minor": 2
}
